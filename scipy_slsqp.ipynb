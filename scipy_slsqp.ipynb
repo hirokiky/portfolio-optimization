{
 "cells": [
  {
   "cell_type": "code",
   "execution_count": 1,
   "metadata": {},
   "outputs": [],
   "source": [
    "import numpy as np\n",
    "import pandas as pd\n",
    "import pandas_datareader.data as pdr\n",
    "import matplotlib.pyplot as plt\n",
    "%matplotlib inline"
   ]
  },
  {
   "cell_type": "code",
   "execution_count": 2,
   "metadata": {},
   "outputs": [
    {
     "data": {
      "text/html": [
       "<div>\n",
       "<style scoped>\n",
       "    .dataframe tbody tr th:only-of-type {\n",
       "        vertical-align: middle;\n",
       "    }\n",
       "\n",
       "    .dataframe tbody tr th {\n",
       "        vertical-align: top;\n",
       "    }\n",
       "\n",
       "    .dataframe thead th {\n",
       "        text-align: right;\n",
       "    }\n",
       "</style>\n",
       "<table border=\"1\" class=\"dataframe\">\n",
       "  <thead>\n",
       "    <tr style=\"text-align: right;\">\n",
       "      <th></th>\n",
       "      <th>Food</th>\n",
       "      <th>Beer</th>\n",
       "      <th>Smoke</th>\n",
       "      <th>Games</th>\n",
       "      <th>Books</th>\n",
       "      <th>Hshld</th>\n",
       "      <th>Clths</th>\n",
       "      <th>Hlth</th>\n",
       "      <th>Chems</th>\n",
       "      <th>Txtls</th>\n",
       "      <th>...</th>\n",
       "      <th>Telcm</th>\n",
       "      <th>Servs</th>\n",
       "      <th>BusEq</th>\n",
       "      <th>Paper</th>\n",
       "      <th>Trans</th>\n",
       "      <th>Whlsl</th>\n",
       "      <th>Rtail</th>\n",
       "      <th>Meals</th>\n",
       "      <th>Fin</th>\n",
       "      <th>Other</th>\n",
       "    </tr>\n",
       "    <tr>\n",
       "      <th>Date</th>\n",
       "      <th></th>\n",
       "      <th></th>\n",
       "      <th></th>\n",
       "      <th></th>\n",
       "      <th></th>\n",
       "      <th></th>\n",
       "      <th></th>\n",
       "      <th></th>\n",
       "      <th></th>\n",
       "      <th></th>\n",
       "      <th></th>\n",
       "      <th></th>\n",
       "      <th></th>\n",
       "      <th></th>\n",
       "      <th></th>\n",
       "      <th></th>\n",
       "      <th></th>\n",
       "      <th></th>\n",
       "      <th></th>\n",
       "      <th></th>\n",
       "      <th></th>\n",
       "    </tr>\n",
       "  </thead>\n",
       "  <tbody>\n",
       "    <tr>\n",
       "      <th>2010-01</th>\n",
       "      <td>-0.92</td>\n",
       "      <td>-3.70</td>\n",
       "      <td>-3.15</td>\n",
       "      <td>1.12</td>\n",
       "      <td>1.23</td>\n",
       "      <td>0.85</td>\n",
       "      <td>-3.11</td>\n",
       "      <td>0.00</td>\n",
       "      <td>-4.04</td>\n",
       "      <td>-8.66</td>\n",
       "      <td>...</td>\n",
       "      <td>-6.84</td>\n",
       "      <td>-7.10</td>\n",
       "      <td>-7.88</td>\n",
       "      <td>-5.49</td>\n",
       "      <td>-4.04</td>\n",
       "      <td>-2.55</td>\n",
       "      <td>-1.92</td>\n",
       "      <td>-0.98</td>\n",
       "      <td>-1.18</td>\n",
       "      <td>2.24</td>\n",
       "    </tr>\n",
       "    <tr>\n",
       "      <th>2010-02</th>\n",
       "      <td>2.92</td>\n",
       "      <td>0.25</td>\n",
       "      <td>5.00</td>\n",
       "      <td>6.02</td>\n",
       "      <td>-1.78</td>\n",
       "      <td>3.69</td>\n",
       "      <td>6.07</td>\n",
       "      <td>0.37</td>\n",
       "      <td>5.46</td>\n",
       "      <td>15.68</td>\n",
       "      <td>...</td>\n",
       "      <td>2.92</td>\n",
       "      <td>2.84</td>\n",
       "      <td>6.30</td>\n",
       "      <td>3.05</td>\n",
       "      <td>7.25</td>\n",
       "      <td>5.89</td>\n",
       "      <td>4.32</td>\n",
       "      <td>4.50</td>\n",
       "      <td>2.71</td>\n",
       "      <td>1.87</td>\n",
       "    </tr>\n",
       "    <tr>\n",
       "      <th>2010-03</th>\n",
       "      <td>4.44</td>\n",
       "      <td>6.11</td>\n",
       "      <td>6.36</td>\n",
       "      <td>12.06</td>\n",
       "      <td>5.53</td>\n",
       "      <td>2.13</td>\n",
       "      <td>11.39</td>\n",
       "      <td>3.61</td>\n",
       "      <td>7.34</td>\n",
       "      <td>8.42</td>\n",
       "      <td>...</td>\n",
       "      <td>7.88</td>\n",
       "      <td>5.22</td>\n",
       "      <td>8.13</td>\n",
       "      <td>5.86</td>\n",
       "      <td>8.11</td>\n",
       "      <td>5.99</td>\n",
       "      <td>6.14</td>\n",
       "      <td>8.27</td>\n",
       "      <td>8.14</td>\n",
       "      <td>9.07</td>\n",
       "    </tr>\n",
       "    <tr>\n",
       "      <th>2010-04</th>\n",
       "      <td>-1.46</td>\n",
       "      <td>-1.76</td>\n",
       "      <td>-3.03</td>\n",
       "      <td>10.96</td>\n",
       "      <td>2.32</td>\n",
       "      <td>1.21</td>\n",
       "      <td>4.23</td>\n",
       "      <td>-2.22</td>\n",
       "      <td>3.08</td>\n",
       "      <td>11.43</td>\n",
       "      <td>...</td>\n",
       "      <td>3.82</td>\n",
       "      <td>0.46</td>\n",
       "      <td>3.89</td>\n",
       "      <td>4.21</td>\n",
       "      <td>3.82</td>\n",
       "      <td>3.20</td>\n",
       "      <td>1.85</td>\n",
       "      <td>7.31</td>\n",
       "      <td>0.95</td>\n",
       "      <td>3.86</td>\n",
       "    </tr>\n",
       "    <tr>\n",
       "      <th>2010-05</th>\n",
       "      <td>-5.37</td>\n",
       "      <td>-3.88</td>\n",
       "      <td>-7.71</td>\n",
       "      <td>-7.05</td>\n",
       "      <td>-10.12</td>\n",
       "      <td>-4.35</td>\n",
       "      <td>-5.67</td>\n",
       "      <td>-8.01</td>\n",
       "      <td>-9.99</td>\n",
       "      <td>-9.87</td>\n",
       "      <td>...</td>\n",
       "      <td>-5.91</td>\n",
       "      <td>-8.31</td>\n",
       "      <td>-7.07</td>\n",
       "      <td>-8.89</td>\n",
       "      <td>-5.98</td>\n",
       "      <td>-4.01</td>\n",
       "      <td>-5.83</td>\n",
       "      <td>-4.76</td>\n",
       "      <td>-9.12</td>\n",
       "      <td>-10.05</td>\n",
       "    </tr>\n",
       "  </tbody>\n",
       "</table>\n",
       "<p>5 rows × 30 columns</p>\n",
       "</div>"
      ],
      "text/plain": [
       "         Food   Beer   Smoke  Games  Books  Hshld  Clths  Hlth   Chems  Txtls  \\\n",
       "Date                                                                            \n",
       "2010-01  -0.92  -3.70  -3.15   1.12   1.23   0.85  -3.11   0.00  -4.04  -8.66   \n",
       "2010-02   2.92   0.25   5.00   6.02  -1.78   3.69   6.07   0.37   5.46  15.68   \n",
       "2010-03   4.44   6.11   6.36  12.06   5.53   2.13  11.39   3.61   7.34   8.42   \n",
       "2010-04  -1.46  -1.76  -3.03  10.96   2.32   1.21   4.23  -2.22   3.08  11.43   \n",
       "2010-05  -5.37  -3.88  -7.71  -7.05 -10.12  -4.35  -5.67  -8.01  -9.99  -9.87   \n",
       "\n",
       "         ...    Telcm  Servs  BusEq  Paper  Trans  Whlsl  Rtail  Meals  Fin    \\\n",
       "Date     ...                                                                    \n",
       "2010-01  ...    -6.84  -7.10  -7.88  -5.49  -4.04  -2.55  -1.92  -0.98  -1.18   \n",
       "2010-02  ...     2.92   2.84   6.30   3.05   7.25   5.89   4.32   4.50   2.71   \n",
       "2010-03  ...     7.88   5.22   8.13   5.86   8.11   5.99   6.14   8.27   8.14   \n",
       "2010-04  ...     3.82   0.46   3.89   4.21   3.82   3.20   1.85   7.31   0.95   \n",
       "2010-05  ...    -5.91  -8.31  -7.07  -8.89  -5.98  -4.01  -5.83  -4.76  -9.12   \n",
       "\n",
       "         Other  \n",
       "Date            \n",
       "2010-01   2.24  \n",
       "2010-02   1.87  \n",
       "2010-03   9.07  \n",
       "2010-04   3.86  \n",
       "2010-05 -10.05  \n",
       "\n",
       "[5 rows x 30 columns]"
      ]
     },
     "execution_count": 2,
     "metadata": {},
     "output_type": "execute_result"
    }
   ],
   "source": [
    "name = '30_Industry_Portfolios'\n",
    "df_dict = pdr.DataReader(name=name, data_source='famafrench')\n",
    "df = df_dict[0]\n",
    "df.head()"
   ]
  },
  {
   "cell_type": "code",
   "execution_count": 3,
   "metadata": {},
   "outputs": [],
   "source": [
    "mean = df.mean()"
   ]
  },
  {
   "cell_type": "code",
   "execution_count": 4,
   "metadata": {},
   "outputs": [],
   "source": [
    "cov = df.cov()\n",
    "std = np.sqrt(np.diag(cov))\n"
   ]
  },
  {
   "cell_type": "code",
   "execution_count": 6,
   "metadata": {},
   "outputs": [
    {
     "data": {
      "text/plain": [
       "Text(0,0.5,'expected return')"
      ]
     },
     "execution_count": 6,
     "metadata": {},
     "output_type": "execute_result"
    },
    {
     "data": {
      "image/png": "[encoded data removed]",
      "text/plain": [
       "<matplotlib.figure.Figure at 0x7f83c4ab2e80>"
      ]
     },
     "metadata": {},
     "output_type": "display_data"
    }
   ],
   "source": [
    "plt.figure(figsize=(10, 6))\n",
    "plt.scatter(std, mean, c=mean/std, marker='o')\n",
    "plt.grid(True)\n",
    "plt.xlabel('expected volatility')\n",
    "plt.ylabel('expected return')\n"
   ]
  },
  {
   "cell_type": "code",
   "execution_count": 9,
   "metadata": {},
   "outputs": [],
   "source": [
    "import scipy.optimize as sco"
   ]
  },
  {
   "cell_type": "code",
   "execution_count": 10,
   "metadata": {},
   "outputs": [],
   "source": [
    "def min_func_var(weights):\n",
    "    return np.dot(weights.T, np.dot(cov, weights))\n"
   ]
  },
  {
   "cell_type": "code",
   "execution_count": 11,
   "metadata": {},
   "outputs": [],
   "source": [
    "x0 = [1. / len(mean)] * len(mean)"
   ]
  },
  {
   "cell_type": "code",
   "execution_count": 12,
   "metadata": {},
   "outputs": [],
   "source": [
    "tret = mean.mean()"
   ]
  },
  {
   "cell_type": "code",
   "execution_count": 14,
   "metadata": {},
   "outputs": [],
   "source": [
    "cons = [{'type': 'eq', 'fun': lambda x: np.sum(x) - 1}, \n",
    "        {'type': 'ineq', 'fun': lambda x: np.sum(mean * x) - tret}]\n"
   ]
  },
  {
   "cell_type": "code",
   "execution_count": 15,
   "metadata": {},
   "outputs": [],
   "source": [
    "bnds = [(0, None)] * len(mean)"
   ]
  },
  {
   "cell_type": "code",
   "execution_count": 16,
   "metadata": {},
   "outputs": [
    {
     "name": "stdout",
     "output_type": "stream",
     "text": [
      "CPU times: user 281 ms, sys: 55 µs, total: 281 ms\n",
      "Wall time: 289 ms\n"
     ]
    }
   ],
   "source": [
    "%%time\n",
    "opts = sco.minimize(fun=min_func_var, x0=x0, method='SLSQP', bounds=bnds, constraints=cons)\n"
   ]
  },
  {
   "cell_type": "code",
   "execution_count": 17,
   "metadata": {},
   "outputs": [
    {
     "data": {
      "text/plain": [
       "     fun: 6.370075340319306\n",
       "     jac: array([ 12.71122712,  12.77290165,  16.86909598,  16.11485201,\n",
       "        16.69800586,  12.66693562,  12.81957662,  12.77498537,\n",
       "        16.87858564,  18.60798943,  16.89769584,  18.50258517,\n",
       "        16.85832965,  16.36558586,  16.65608013,  14.06348622,\n",
       "        13.59067202,  15.87845296,  13.84801692,  12.70312327,\n",
       "        14.66571641,  14.06810135,  15.15354234,  15.92114353,\n",
       "        14.28587621,  13.08599955,  13.68709058,  12.83765054,\n",
       "        13.12905812,  13.80158633])\n",
       " message: 'Optimization terminated successfully.'\n",
       "    nfev: 389\n",
       "     nit: 12\n",
       "    njev: 12\n",
       "  status: 0\n",
       " success: True\n",
       "       x: array([  7.68650397e-02,   1.86978576e-01,   3.96546131e-14,\n",
       "         7.90203813e-15,   1.85391931e-14,   2.15266665e-01,\n",
       "         0.00000000e+00,   4.58735315e-02,   1.68068006e-14,\n",
       "         4.13264393e-14,   1.24887012e-14,   2.78714497e-14,\n",
       "         9.49078733e-15,   1.00449434e-14,   5.75383382e-15,\n",
       "         0.00000000e+00,   0.00000000e+00,   0.00000000e+00,\n",
       "         0.00000000e+00,   2.67987607e-01,   6.64363855e-15,\n",
       "         0.00000000e+00,   4.45610481e-15,   1.84638004e-14,\n",
       "         0.00000000e+00,   0.00000000e+00,   0.00000000e+00,\n",
       "         2.07028581e-01,   0.00000000e+00,   0.00000000e+00])"
      ]
     },
     "execution_count": 17,
     "metadata": {},
     "output_type": "execute_result"
    }
   ],
   "source": [
    "opts"
   ]
  },
  {
   "cell_type": "code",
   "execution_count": 18,
   "metadata": {},
   "outputs": [
    {
     "data": {
      "text/plain": [
       "6.370075340319306"
      ]
     },
     "execution_count": 18,
     "metadata": {},
     "output_type": "execute_result"
    }
   ],
   "source": [
    "opts['fun']"
   ]
  },
  {
   "cell_type": "code",
   "execution_count": 19,
   "metadata": {},
   "outputs": [
    {
     "data": {
      "text/plain": [
       "True"
      ]
     },
     "execution_count": 19,
     "metadata": {},
     "output_type": "execute_result"
    }
   ],
   "source": [
    "opts['success']"
   ]
  },
  {
   "cell_type": "code",
   "execution_count": 20,
   "metadata": {},
   "outputs": [],
   "source": [
    "mean_high = mean.max().round(3)\n",
    "mean_low = round(mean.quantile(0.25), 3)\n",
    "trets = np.linspace(mean_low, mean_high, 50)\n"
   ]
  },
  {
   "cell_type": "code",
   "execution_count": 25,
   "metadata": {},
   "outputs": [],
   "source": [
    "tvols = []\n",
    "for tret in trets:\n",
    "    cons = [{'type': 'eq', 'fun': lambda x: np.sum(x) - 1}, \n",
    "            {'type': 'ineq', 'fun': (lambda x: np.sum(mean * x) - tret)}]\n",
    "    res = sco.minimize(fun=min_func_var, x0=x0, method='SLSQP', bounds=bnds, constraints=cons)\n",
    "    tvols.append(np.sqrt(res['fun']))\n",
    "\n",
    "tvols = np.array(tvols)"
   ]
  },
  {
   "cell_type": "code",
   "execution_count": 26,
   "metadata": {},
   "outputs": [
    {
     "data": {
      "text/plain": [
       "Text(0,0.5,'expected return')"
      ]
     },
     "execution_count": 26,
     "metadata": {},
     "output_type": "execute_result"
    },
    {
     "data": {
      "image/png": "[encoded data removed]",
      "text/plain": [
       "<matplotlib.figure.Figure at 0x7f83b93167b8>"
      ]
     },
     "metadata": {},
     "output_type": "display_data"
    }
   ],
   "source": [
    "plt.figure(figsize=(10, 6))\n",
    "plt.scatter(tvols, trets, c=trets/tvols, marker='x')\n",
    "plt.grid(True)\n",
    "plt.xlabel('expected volatility')\n",
    "plt.ylabel('expected return')"
   ]
  },
  {
   "cell_type": "code",
   "execution_count": null,
   "metadata": {},
   "outputs": [],
   "source": []
  }
 ],
 "metadata": {
  "kernelspec": {
   "display_name": "Python 3",
   "language": "python",
   "name": "python3"
  },
  "language_info": {
   "codemirror_mode": {
    "name": "ipython",
    "version": 3
   },
   "file_extension": ".py",
   "mimetype": "text/x-python",
   "name": "python",
   "nbconvert_exporter": "python",
   "pygments_lexer": "ipython3",
   "version": "3.6.3"
  }
 },
 "nbformat": 4,
 "nbformat_minor": 2
}
